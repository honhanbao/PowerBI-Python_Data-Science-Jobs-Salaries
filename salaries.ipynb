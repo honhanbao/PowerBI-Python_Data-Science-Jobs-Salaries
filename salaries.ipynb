{
 "cells": [
  {
   "cell_type": "code",
   "execution_count": null,
   "metadata": {},
   "outputs": [],
   "source": []
  },
  {
   "attachments": {},
   "cell_type": "markdown",
   "metadata": {},
   "source": [
    "## An overview of dataset"
   ]
  },
  {
   "cell_type": "code",
   "execution_count": 47,
   "metadata": {},
   "outputs": [],
   "source": [
    "import pandas as pd\n",
    "import seaborn as sb"
   ]
  },
  {
   "cell_type": "code",
   "execution_count": 3,
   "metadata": {},
   "outputs": [
    {
     "name": "stdout",
     "output_type": "stream",
     "text": [
      "      work_year experience_level employment_type                 job_title  \\\n",
      "0          2023               MI              FT        Research Scientist   \n",
      "1          2023               SE              FT            Data Scientist   \n",
      "2          2023               EX              FT            Data Scientist   \n",
      "3          2023               EX              FT            Data Scientist   \n",
      "4          2023               MI              FT             Data Engineer   \n",
      "...         ...              ...             ...                       ...   \n",
      "4483       2020               SE              FT            Data Scientist   \n",
      "4484       2021               MI              FT  Principal Data Scientist   \n",
      "4485       2020               EN              FT            Data Scientist   \n",
      "4486       2020               EN              CT     Business Data Analyst   \n",
      "4487       2021               SE              FT      Data Science Manager   \n",
      "\n",
      "       salary salary_currency  salary_in_usd employee_residence  remote_ratio  \\\n",
      "0      280000             USD         280000                 GB            50   \n",
      "1      800000             NOK          77627                 NO            50   \n",
      "2      250000             USD         250000                 US           100   \n",
      "3      180000             USD         180000                 US           100   \n",
      "4      100000             USD         100000                 US           100   \n",
      "...       ...             ...            ...                ...           ...   \n",
      "4483   412000             USD         412000                 US           100   \n",
      "4484   151000             USD         151000                 US           100   \n",
      "4485   105000             USD         105000                 US           100   \n",
      "4486   100000             USD         100000                 US           100   \n",
      "4487  7000000             INR          94665                 IN            50   \n",
      "\n",
      "     company_location company_size  \n",
      "0                  GB            L  \n",
      "1                  NO            S  \n",
      "2                  US            M  \n",
      "3                  US            M  \n",
      "4                  US            M  \n",
      "...               ...          ...  \n",
      "4483               US            L  \n",
      "4484               US            L  \n",
      "4485               US            S  \n",
      "4486               US            L  \n",
      "4487               IN            L  \n",
      "\n",
      "[4488 rows x 11 columns]\n"
     ]
    }
   ],
   "source": [
    "df = pd.read_csv ('salaries.csv')\n",
    "print(df)"
   ]
  },
  {
   "cell_type": "code",
   "execution_count": 30,
   "metadata": {},
   "outputs": [
    {
     "data": {
      "text/html": [
       "<div>\n",
       "<style scoped>\n",
       "    .dataframe tbody tr th:only-of-type {\n",
       "        vertical-align: middle;\n",
       "    }\n",
       "\n",
       "    .dataframe tbody tr th {\n",
       "        vertical-align: top;\n",
       "    }\n",
       "\n",
       "    .dataframe thead th {\n",
       "        text-align: right;\n",
       "    }\n",
       "</style>\n",
       "<table border=\"1\" class=\"dataframe\">\n",
       "  <thead>\n",
       "    <tr style=\"text-align: right;\">\n",
       "      <th></th>\n",
       "      <th>work_year</th>\n",
       "      <th>experience_level</th>\n",
       "      <th>employment_type</th>\n",
       "      <th>job_title</th>\n",
       "      <th>salary</th>\n",
       "      <th>salary_currency</th>\n",
       "      <th>salary_in_usd</th>\n",
       "      <th>employee_residence</th>\n",
       "      <th>remote_ratio</th>\n",
       "      <th>company_location</th>\n",
       "      <th>company_size</th>\n",
       "    </tr>\n",
       "  </thead>\n",
       "  <tbody>\n",
       "    <tr>\n",
       "      <th>0</th>\n",
       "      <td>2023</td>\n",
       "      <td>MI</td>\n",
       "      <td>FT</td>\n",
       "      <td>Research Scientist</td>\n",
       "      <td>280000</td>\n",
       "      <td>USD</td>\n",
       "      <td>280000</td>\n",
       "      <td>GB</td>\n",
       "      <td>50</td>\n",
       "      <td>GB</td>\n",
       "      <td>L</td>\n",
       "    </tr>\n",
       "    <tr>\n",
       "      <th>1</th>\n",
       "      <td>2023</td>\n",
       "      <td>SE</td>\n",
       "      <td>FT</td>\n",
       "      <td>Data Scientist</td>\n",
       "      <td>800000</td>\n",
       "      <td>NOK</td>\n",
       "      <td>77627</td>\n",
       "      <td>NO</td>\n",
       "      <td>50</td>\n",
       "      <td>NO</td>\n",
       "      <td>S</td>\n",
       "    </tr>\n",
       "    <tr>\n",
       "      <th>2</th>\n",
       "      <td>2023</td>\n",
       "      <td>EX</td>\n",
       "      <td>FT</td>\n",
       "      <td>Data Scientist</td>\n",
       "      <td>250000</td>\n",
       "      <td>USD</td>\n",
       "      <td>250000</td>\n",
       "      <td>US</td>\n",
       "      <td>100</td>\n",
       "      <td>US</td>\n",
       "      <td>M</td>\n",
       "    </tr>\n",
       "    <tr>\n",
       "      <th>3</th>\n",
       "      <td>2023</td>\n",
       "      <td>EX</td>\n",
       "      <td>FT</td>\n",
       "      <td>Data Scientist</td>\n",
       "      <td>180000</td>\n",
       "      <td>USD</td>\n",
       "      <td>180000</td>\n",
       "      <td>US</td>\n",
       "      <td>100</td>\n",
       "      <td>US</td>\n",
       "      <td>M</td>\n",
       "    </tr>\n",
       "    <tr>\n",
       "      <th>4</th>\n",
       "      <td>2023</td>\n",
       "      <td>MI</td>\n",
       "      <td>FT</td>\n",
       "      <td>Data Engineer</td>\n",
       "      <td>100000</td>\n",
       "      <td>USD</td>\n",
       "      <td>100000</td>\n",
       "      <td>US</td>\n",
       "      <td>100</td>\n",
       "      <td>US</td>\n",
       "      <td>M</td>\n",
       "    </tr>\n",
       "    <tr>\n",
       "      <th>5</th>\n",
       "      <td>2023</td>\n",
       "      <td>MI</td>\n",
       "      <td>FT</td>\n",
       "      <td>Data Engineer</td>\n",
       "      <td>70000</td>\n",
       "      <td>USD</td>\n",
       "      <td>70000</td>\n",
       "      <td>US</td>\n",
       "      <td>100</td>\n",
       "      <td>US</td>\n",
       "      <td>M</td>\n",
       "    </tr>\n",
       "    <tr>\n",
       "      <th>6</th>\n",
       "      <td>2023</td>\n",
       "      <td>MI</td>\n",
       "      <td>FT</td>\n",
       "      <td>Data Engineer</td>\n",
       "      <td>100000</td>\n",
       "      <td>USD</td>\n",
       "      <td>100000</td>\n",
       "      <td>US</td>\n",
       "      <td>100</td>\n",
       "      <td>US</td>\n",
       "      <td>M</td>\n",
       "    </tr>\n",
       "    <tr>\n",
       "      <th>7</th>\n",
       "      <td>2023</td>\n",
       "      <td>MI</td>\n",
       "      <td>FT</td>\n",
       "      <td>Data Engineer</td>\n",
       "      <td>70000</td>\n",
       "      <td>USD</td>\n",
       "      <td>70000</td>\n",
       "      <td>US</td>\n",
       "      <td>100</td>\n",
       "      <td>US</td>\n",
       "      <td>M</td>\n",
       "    </tr>\n",
       "    <tr>\n",
       "      <th>8</th>\n",
       "      <td>2023</td>\n",
       "      <td>SE</td>\n",
       "      <td>FT</td>\n",
       "      <td>Data Scientist</td>\n",
       "      <td>240000</td>\n",
       "      <td>USD</td>\n",
       "      <td>240000</td>\n",
       "      <td>US</td>\n",
       "      <td>100</td>\n",
       "      <td>US</td>\n",
       "      <td>M</td>\n",
       "    </tr>\n",
       "    <tr>\n",
       "      <th>9</th>\n",
       "      <td>2023</td>\n",
       "      <td>SE</td>\n",
       "      <td>FT</td>\n",
       "      <td>Data Scientist</td>\n",
       "      <td>157000</td>\n",
       "      <td>USD</td>\n",
       "      <td>157000</td>\n",
       "      <td>US</td>\n",
       "      <td>100</td>\n",
       "      <td>US</td>\n",
       "      <td>M</td>\n",
       "    </tr>\n",
       "  </tbody>\n",
       "</table>\n",
       "</div>"
      ],
      "text/plain": [
       "   work_year experience_level employment_type           job_title  salary  \\\n",
       "0       2023               MI              FT  Research Scientist  280000   \n",
       "1       2023               SE              FT      Data Scientist  800000   \n",
       "2       2023               EX              FT      Data Scientist  250000   \n",
       "3       2023               EX              FT      Data Scientist  180000   \n",
       "4       2023               MI              FT       Data Engineer  100000   \n",
       "5       2023               MI              FT       Data Engineer   70000   \n",
       "6       2023               MI              FT       Data Engineer  100000   \n",
       "7       2023               MI              FT       Data Engineer   70000   \n",
       "8       2023               SE              FT      Data Scientist  240000   \n",
       "9       2023               SE              FT      Data Scientist  157000   \n",
       "\n",
       "  salary_currency  salary_in_usd employee_residence  remote_ratio  \\\n",
       "0             USD         280000                 GB            50   \n",
       "1             NOK          77627                 NO            50   \n",
       "2             USD         250000                 US           100   \n",
       "3             USD         180000                 US           100   \n",
       "4             USD         100000                 US           100   \n",
       "5             USD          70000                 US           100   \n",
       "6             USD         100000                 US           100   \n",
       "7             USD          70000                 US           100   \n",
       "8             USD         240000                 US           100   \n",
       "9             USD         157000                 US           100   \n",
       "\n",
       "  company_location company_size  \n",
       "0               GB            L  \n",
       "1               NO            S  \n",
       "2               US            M  \n",
       "3               US            M  \n",
       "4               US            M  \n",
       "5               US            M  \n",
       "6               US            M  \n",
       "7               US            M  \n",
       "8               US            M  \n",
       "9               US            M  "
      ]
     },
     "execution_count": 30,
     "metadata": {},
     "output_type": "execute_result"
    }
   ],
   "source": [
    "df.head(10)"
   ]
  },
  {
   "cell_type": "code",
   "execution_count": 27,
   "metadata": {},
   "outputs": [
    {
     "name": "stdout",
     "output_type": "stream",
     "text": [
      "<class 'pandas.core.frame.DataFrame'>\n",
      "RangeIndex: 4488 entries, 0 to 4487\n",
      "Data columns (total 11 columns):\n",
      " #   Column              Non-Null Count  Dtype \n",
      "---  ------              --------------  ----- \n",
      " 0   work_year           4488 non-null   int64 \n",
      " 1   experience_level    4488 non-null   object\n",
      " 2   employment_type     4488 non-null   object\n",
      " 3   job_title           4488 non-null   object\n",
      " 4   salary              4488 non-null   int64 \n",
      " 5   salary_currency     4488 non-null   object\n",
      " 6   salary_in_usd       4488 non-null   int64 \n",
      " 7   employee_residence  4488 non-null   object\n",
      " 8   remote_ratio        4488 non-null   int64 \n",
      " 9   company_location    4488 non-null   object\n",
      " 10  company_size        4488 non-null   object\n",
      "dtypes: int64(4), object(7)\n",
      "memory usage: 385.8+ KB\n"
     ]
    }
   ],
   "source": [
    "df.info()"
   ]
  },
  {
   "cell_type": "code",
   "execution_count": 28,
   "metadata": {},
   "outputs": [
    {
     "data": {
      "text/html": [
       "<div>\n",
       "<style scoped>\n",
       "    .dataframe tbody tr th:only-of-type {\n",
       "        vertical-align: middle;\n",
       "    }\n",
       "\n",
       "    .dataframe tbody tr th {\n",
       "        vertical-align: top;\n",
       "    }\n",
       "\n",
       "    .dataframe thead th {\n",
       "        text-align: right;\n",
       "    }\n",
       "</style>\n",
       "<table border=\"1\" class=\"dataframe\">\n",
       "  <thead>\n",
       "    <tr style=\"text-align: right;\">\n",
       "      <th></th>\n",
       "      <th>work_year</th>\n",
       "      <th>salary</th>\n",
       "      <th>salary_in_usd</th>\n",
       "      <th>remote_ratio</th>\n",
       "    </tr>\n",
       "  </thead>\n",
       "  <tbody>\n",
       "    <tr>\n",
       "      <th>count</th>\n",
       "      <td>4488.000000</td>\n",
       "      <td>4.488000e+03</td>\n",
       "      <td>4488.000000</td>\n",
       "      <td>4488.000000</td>\n",
       "    </tr>\n",
       "    <tr>\n",
       "      <th>mean</th>\n",
       "      <td>2022.475713</td>\n",
       "      <td>1.891214e+05</td>\n",
       "      <td>141121.108066</td>\n",
       "      <td>45.532531</td>\n",
       "    </tr>\n",
       "    <tr>\n",
       "      <th>std</th>\n",
       "      <td>0.674168</td>\n",
       "      <td>6.243121e+05</td>\n",
       "      <td>63629.987204</td>\n",
       "      <td>48.679755</td>\n",
       "    </tr>\n",
       "    <tr>\n",
       "      <th>min</th>\n",
       "      <td>2020.000000</td>\n",
       "      <td>6.000000e+03</td>\n",
       "      <td>5132.000000</td>\n",
       "      <td>0.000000</td>\n",
       "    </tr>\n",
       "    <tr>\n",
       "      <th>25%</th>\n",
       "      <td>2022.000000</td>\n",
       "      <td>1.000000e+05</td>\n",
       "      <td>100000.000000</td>\n",
       "      <td>0.000000</td>\n",
       "    </tr>\n",
       "    <tr>\n",
       "      <th>50%</th>\n",
       "      <td>2023.000000</td>\n",
       "      <td>1.400000e+05</td>\n",
       "      <td>138475.000000</td>\n",
       "      <td>0.000000</td>\n",
       "    </tr>\n",
       "    <tr>\n",
       "      <th>75%</th>\n",
       "      <td>2023.000000</td>\n",
       "      <td>1.846175e+05</td>\n",
       "      <td>180000.000000</td>\n",
       "      <td>100.000000</td>\n",
       "    </tr>\n",
       "    <tr>\n",
       "      <th>max</th>\n",
       "      <td>2023.000000</td>\n",
       "      <td>3.040000e+07</td>\n",
       "      <td>450000.000000</td>\n",
       "      <td>100.000000</td>\n",
       "    </tr>\n",
       "  </tbody>\n",
       "</table>\n",
       "</div>"
      ],
      "text/plain": [
       "         work_year        salary  salary_in_usd  remote_ratio\n",
       "count  4488.000000  4.488000e+03    4488.000000   4488.000000\n",
       "mean   2022.475713  1.891214e+05  141121.108066     45.532531\n",
       "std       0.674168  6.243121e+05   63629.987204     48.679755\n",
       "min    2020.000000  6.000000e+03    5132.000000      0.000000\n",
       "25%    2022.000000  1.000000e+05  100000.000000      0.000000\n",
       "50%    2023.000000  1.400000e+05  138475.000000      0.000000\n",
       "75%    2023.000000  1.846175e+05  180000.000000    100.000000\n",
       "max    2023.000000  3.040000e+07  450000.000000    100.000000"
      ]
     },
     "execution_count": 28,
     "metadata": {},
     "output_type": "execute_result"
    }
   ],
   "source": [
    "df.describe()"
   ]
  },
  {
   "attachments": {},
   "cell_type": "markdown",
   "metadata": {},
   "source": [
    "## Discover job titles"
   ]
  },
  {
   "cell_type": "code",
   "execution_count": 31,
   "metadata": {},
   "outputs": [
    {
     "data": {
      "text/plain": [
       "<bound method Series.count of 0             Research Scientist\n",
       "1                 Data Scientist\n",
       "2                 Data Scientist\n",
       "3                 Data Scientist\n",
       "4                  Data Engineer\n",
       "                  ...           \n",
       "4483              Data Scientist\n",
       "4484    Principal Data Scientist\n",
       "4485              Data Scientist\n",
       "4486       Business Data Analyst\n",
       "4487        Data Science Manager\n",
       "Name: job_title, Length: 4488, dtype: object>"
      ]
     },
     "execution_count": 31,
     "metadata": {},
     "output_type": "execute_result"
    }
   ],
   "source": [
    "df['job_title'].count"
   ]
  },
  {
   "attachments": {},
   "cell_type": "markdown",
   "metadata": {},
   "source": [
    "We use nunique() function to find number of unique job titles"
   ]
  },
  {
   "cell_type": "code",
   "execution_count": 37,
   "metadata": {},
   "outputs": [
    {
     "data": {
      "text/plain": [
       "100"
      ]
     },
     "execution_count": 37,
     "metadata": {},
     "output_type": "execute_result"
    }
   ],
   "source": [
    "df['job_title'].nunique()   # df['job_title'].unique().size"
   ]
  },
  {
   "attachments": {},
   "cell_type": "markdown",
   "metadata": {},
   "source": [
    "We use unique() method to show all job titles"
   ]
  },
  {
   "cell_type": "code",
   "execution_count": 38,
   "metadata": {},
   "outputs": [
    {
     "data": {
      "text/plain": [
       "array(['Research Scientist', 'Data Scientist', 'Data Engineer',\n",
       "       'Applied Scientist', 'Machine Learning Engineer', 'Data Analyst',\n",
       "       'Machine Learning Infrastructure Engineer',\n",
       "       'Business Intelligence Engineer', 'Decision Scientist',\n",
       "       'Data Specialist', 'Analytics Engineer', 'Data Architect',\n",
       "       'Data Manager', 'Sales Data Analyst', 'BI Data Analyst',\n",
       "       'Data Operations Specialist', 'Director of Data Science',\n",
       "       'Machine Learning Scientist', 'Business Intelligence Data Analyst',\n",
       "       'Insight Analyst', 'Business Intelligence Developer',\n",
       "       'ETL Developer', 'ML Engineer', 'NLP Engineer',\n",
       "       'Data Science Manager', 'Head of Data', 'Computer Vision Engineer',\n",
       "       'Applied Machine Learning Engineer', 'Business Data Analyst',\n",
       "       'Data Operations Engineer', 'Staff Data Analyst',\n",
       "       'Applied Machine Learning Scientist', 'AWS Data Architect',\n",
       "       'Product Data Analyst', 'Machine Learning Developer',\n",
       "       'Research Engineer', 'Data Integration Specialist', 'BI Developer',\n",
       "       'Data Visualization Analyst', 'Autonomous Vehicle Technician',\n",
       "       'Data Modeler', 'Cloud Data Engineer', 'Finance Data Analyst',\n",
       "       'Data Analytics Manager', 'Data Operations Analyst',\n",
       "       'Data Science Lead', 'AI Scientist', 'Data Science Consultant',\n",
       "       'Machine Learning Software Engineer', 'Principal Data Scientist',\n",
       "       'Data Strategist', 'Compliance Data Analyst',\n",
       "       'Applied Data Scientist', 'ETL Engineer', 'Data DevOps Engineer',\n",
       "       'AI Developer', 'Data Quality Analyst',\n",
       "       'Machine Learning Researcher', 'Big Data Engineer',\n",
       "       'Lead Data Analyst', 'BI Data Engineer', 'MLOps Engineer',\n",
       "       'Lead Data Scientist', 'Cloud Database Engineer',\n",
       "       'Financial Data Analyst', 'Data Infrastructure Engineer',\n",
       "       'Software Data Engineer', 'AI Programmer',\n",
       "       'Deep Learning Researcher', 'BI Analyst',\n",
       "       'Data Analytics Specialist', 'Head of Data Science',\n",
       "       'Deep Learning Engineer', 'Big Data Architect',\n",
       "       'Computer Vision Software Engineer', 'Azure Data Engineer',\n",
       "       'Marketing Data Engineer', 'Data Analytics Lead', 'Data Lead',\n",
       "       'Data Science Engineer', 'Machine Learning Research Engineer',\n",
       "       'Manager Data Management', 'Principal Machine Learning Engineer',\n",
       "       'Data Analytics Engineer', 'Data Analytics Consultant',\n",
       "       'Data Management Specialist', 'Data Science Tech Lead',\n",
       "       'Data Scientist Lead', 'Marketing Data Analyst',\n",
       "       'Power BI Developer', 'Product Data Scientist',\n",
       "       'Principal Data Architect', 'Machine Learning Manager',\n",
       "       'Lead Machine Learning Engineer', 'Cloud Data Architect',\n",
       "       'Lead Data Engineer', 'Head of Machine Learning',\n",
       "       'Principal Data Analyst', 'Principal Data Engineer',\n",
       "       'Staff Data Scientist'], dtype=object)"
      ]
     },
     "execution_count": 38,
     "metadata": {},
     "output_type": "execute_result"
    }
   ],
   "source": [
    "df['job_title'].unique()\n"
   ]
  },
  {
   "attachments": {},
   "cell_type": "markdown",
   "metadata": {},
   "source": [
    "## Task 1: Top 10 most popular job titles"
   ]
  },
  {
   "attachments": {},
   "cell_type": "markdown",
   "metadata": {},
   "source": [
    "Using value_counts(), we can display number of each job titles"
   ]
  },
  {
   "cell_type": "code",
   "execution_count": 44,
   "metadata": {},
   "outputs": [
    {
     "data": {
      "text/plain": [
       "Data Engineer                1202\n",
       "Data Scientist                994\n",
       "Data Analyst                  711\n",
       "Machine Learning Engineer     363\n",
       "Analytics Engineer            126\n",
       "                             ... \n",
       "Data DevOps Engineer            1\n",
       "BI Data Engineer                1\n",
       "Marketing Data Engineer         1\n",
       "Azure Data Engineer             1\n",
       "Staff Data Scientist            1\n",
       "Name: job_title, Length: 100, dtype: int64"
      ]
     },
     "execution_count": 44,
     "metadata": {},
     "output_type": "execute_result"
    }
   ],
   "source": [
    "df['job_title'].value_counts()"
   ]
  },
  {
   "attachments": {},
   "cell_type": "markdown",
   "metadata": {},
   "source": []
  },
  {
   "cell_type": "code",
   "execution_count": 46,
   "metadata": {},
   "outputs": [
    {
     "data": {
      "text/plain": [
       "Data Engineer                1202\n",
       "Data Scientist                994\n",
       "Data Analyst                  711\n",
       "Machine Learning Engineer     363\n",
       "Analytics Engineer            126\n",
       "Data Architect                113\n",
       "Research Scientist            105\n",
       "Applied Scientist              97\n",
       "Data Science Manager           66\n",
       "Research Engineer              51\n",
       "Name: job_title, dtype: int64"
      ]
     },
     "execution_count": 46,
     "metadata": {},
     "output_type": "execute_result"
    }
   ],
   "source": [
    "df['job_title'].value_counts().head(10)"
   ]
  },
  {
   "cell_type": "code",
   "execution_count": 64,
   "metadata": {},
   "outputs": [
    {
     "data": {
      "text/plain": [
       "Data Engineer                1202\n",
       "Data Scientist                994\n",
       "Data Analyst                  711\n",
       "Machine Learning Engineer     363\n",
       "Analytics Engineer            126\n",
       "Data Architect                113\n",
       "Research Scientist            105\n",
       "Applied Scientist              97\n",
       "Data Science Manager           66\n",
       "Research Engineer              51\n",
       "Name: job_title, dtype: int64"
      ]
     },
     "execution_count": 64,
     "metadata": {},
     "output_type": "execute_result"
    }
   ],
   "source": [
    "df['job_title'].value_counts()[:10]     # df['job_title'].value_counts().head(10)"
   ]
  },
  {
   "cell_type": "code",
   "execution_count": 65,
   "metadata": {},
   "outputs": [
    {
     "data": {
      "text/plain": [
       "<AxesSubplot:>"
      ]
     },
     "execution_count": 65,
     "metadata": {},
     "output_type": "execute_result"
    },
    {
     "data": {
      "image/png": "[encoded data removed]",
      "text/plain": [
       "<Figure size 432x288 with 1 Axes>"
      ]
     },
     "metadata": {
      "needs_background": "light"
     },
     "output_type": "display_data"
    }
   ],
   "source": [
    "# https://pandas.pydata.org/pandas-docs/version/0.23/generated/pandas.DataFrame.plot.html\n",
    "df['job_title'].value_counts()[:10].plot(kind=\"barh\")"
   ]
  },
  {
   "cell_type": "code",
   "execution_count": null,
   "metadata": {},
   "outputs": [],
   "source": []
  }
 ],
 "metadata": {
  "kernelspec": {
   "display_name": "base",
   "language": "python",
   "name": "python3"
  },
  "language_info": {
   "codemirror_mode": {
    "name": "ipython",
    "version": 3
   },
   "file_extension": ".py",
   "mimetype": "text/x-python",
   "name": "python",
   "nbconvert_exporter": "python",
   "pygments_lexer": "ipython3",
   "version": "3.9.7"
  },
  "orig_nbformat": 4
 },
 "nbformat": 4,
 "nbformat_minor": 2
}
